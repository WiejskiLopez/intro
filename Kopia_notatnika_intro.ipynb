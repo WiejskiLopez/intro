{
  "nbformat": 4,
  "nbformat_minor": 0,
  "metadata": {
    "colab": {
      "provenance": [],
      "gpuType": "T4",
      "authorship_tag": "ABX9TyNrDRCDvCcwDYl1P8hrtPy0",
      "include_colab_link": true
    },
    "kernelspec": {
      "name": "python3",
      "display_name": "Python 3"
    },
    "language_info": {
      "name": "python"
    },
    "accelerator": "GPU",
    "gpuClass": "standard"
  },
  "cells": [
    {
      "cell_type": "markdown",
      "metadata": {
        "id": "view-in-github",
        "colab_type": "text"
      },
      "source": [
        "<a href=\"https://colab.research.google.com/github/WiejskiLopez/intro/blob/main/Kopia_notatnika_intro.ipynb\" target=\"_parent\"><img src=\"https://colab.research.google.com/assets/colab-badge.svg\" alt=\"Open In Colab\"/></a>"
      ]
    },
    {
      "cell_type": "code",
      "source": [
        "print('Hello')"
      ],
      "metadata": {
        "colab": {
          "base_uri": "https://localhost:8080/"
        },
        "id": "NqBPCG9Wzhaw",
        "outputId": "f6e1f88d-cb95-4404-8600-f41779b0a712"
      },
      "execution_count": null,
      "outputs": [
        {
          "output_type": "stream",
          "name": "stdout",
          "text": [
            "Hello\n"
          ]
        }
      ]
    },
    {
      "cell_type": "markdown",
      "source": [
        "##Funkcje Aktywacji\n",
        "##ReLU\n",
        "$$f(x)=max(x,0)$$\n"
      ],
      "metadata": {
        "id": "nSYB00S9aVVy"
      }
    },
    {
      "cell_type": "code",
      "source": [
        "import numpy as np\n",
        "import matplotlib.pyplot as plt\n",
        "import seaborn as sns\n",
        "sns.set()"
      ],
      "metadata": {
        "id": "oc7kItUOa1FD"
      },
      "execution_count": null,
      "outputs": []
    },
    {
      "cell_type": "code",
      "source": [
        "def max_relu(x):\n",
        "  return max(x,0)\n",
        "  "
      ],
      "metadata": {
        "id": "lnjMN8j0zQ8h"
      },
      "execution_count": null,
      "outputs": []
    },
    {
      "cell_type": "code",
      "source": [
        "for i in [-10,-5,0,5,10 ]:\n",
        "  print(max_relu(i))"
      ],
      "metadata": {
        "id": "QnZmrlT5cS3h",
        "outputId": "e718fd47-c964-4886-e100-51800568511f",
        "colab": {
          "base_uri": "https://localhost:8080/"
        }
      },
      "execution_count": null,
      "outputs": [
        {
          "output_type": "stream",
          "name": "stdout",
          "text": [
            "0\n",
            "0\n",
            "0\n",
            "5\n",
            "10\n"
          ]
        }
      ]
    },
    {
      "cell_type": "markdown",
      "source": [
        "https://comarchsa.udemy.com/course/deep-learning-w-jezyku-python/learn/lecture/15530872#overview"
      ],
      "metadata": {
        "id": "dMgYy3aGc4JY"
      }
    }
  ]
}